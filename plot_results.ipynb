{
 "cells": [
  {
   "cell_type": "markdown",
   "metadata": {},
   "source": [
    "#### Import needed packages"
   ]
  },
  {
   "cell_type": "code",
   "execution_count": null,
   "metadata": {},
   "outputs": [],
   "source": [
    "import numpy as np # mathematical package\n",
    "import matplotlib.pyplot as plt # plotting package\n",
    "import cartopy.crs as ccrs # package for Map-plots\n",
    "from netCDF4 import Dataset # package for reading in nc-files"
   ]
  },
  {
   "cell_type": "markdown",
   "metadata": {},
   "source": [
    "#### Variables"
   ]
  },
  {
   "cell_type": "code",
   "execution_count": null,
   "metadata": {},
   "outputs": [],
   "source": [
    "#Dictionary: {How we will call it : how it is called in the nc-file}\n",
    "vars_SH={\n",
    "    'time':'time', # Time [hours since 2015-12-3 00:00:00]\n",
    "    'lon':'lon',   # Longitude [degrees_east]\n",
    "    'lat':'lat',   # Latitude [degrees_north]\n",
    "    'p':'plev',    # pressure [Pa]\n",
    "    'u':'U',       # X-component of horizontal velocity [m s-1]\n",
    "    'v':'V',       # Y-component of horizontal velocity [m s-1]\n",
    "    'w':'W',       # Vertical velocity [Pa s-1]\n",
    "    't':'T',       # Temperature [K]\n",
    "    'rh':'R',      # Relative humidity [%]\n",
    "    'gp':'Z',      # Geopotential height [m2 s-2]\n",
    "    'vort':'VO',   # Relative Vorticity [s-1]  \n",
    "    'div':'D',     # Divergence [s-1]\n",
    "    'ps':'SP'      # Surface pressure [Pa]\n",
    "}\n",
    "vars_GG={\n",
    "    'time':'time',  # Time [day as %Y%m%d.%f]\n",
    "    'lon':'lon',   # Longitude [degrees_east]\n",
    "    'lat':'lat',   # Latitude [degrees_north]\n",
    "    'p':'plev',    # pressure [Pa]\n",
    "    'shf':'SSHF',    # Surface sensible heat flux [Wm-2s]\n",
    "    'lhf':'SLHF',    # Surface latent heat flux [Wm-2s]\n",
    "    'pr':'TP',      # Total precipitation [m]\n",
    "    'q':'Q',       # Specific humidity [kg kg-1]\n",
    "    't2m':'T2M',    # 2 metre temperatur [K]\n",
    "    'lc':'LCC',    # Low cloud cover [-]\n",
    "    'mc':'MCC',  # Medium cloud cover [-]  \n",
    "    'tc':'TCC',   # Total cloud cover [-]\n",
    "    'tlw':'var78', # Total column liquid water [kg m-2] \n",
    "    'blh':'BLH'     # Boundary layer height [m]\n",
    "}"
   ]
  },
  {
   "cell_type": "markdown",
   "metadata": {},
   "source": [
    "# Read in data"
   ]
  },
  {
   "cell_type": "code",
   "execution_count": null,
   "metadata": {},
   "outputs": [],
   "source": [
    "ipath='/Data/gfi/work/ldi022/GEOF321/Desmond_T255L91/output/' # TODO: Insert the path of your model's output (ncfiles)"
   ]
  },
  {
   "cell_type": "markdown",
   "metadata": {},
   "source": [
    "#### Read in data from **control run**"
   ]
  },
  {
   "cell_type": "code",
   "execution_count": null,
   "metadata": {},
   "outputs": [],
   "source": [
    "dat_c={} # control data\n",
    "filename='Desmond2013GG_control.nc' # TODO: Insert the file name of your model's control run output file (gaussian)\n",
    "f=Dataset(ipath+filename) # Open ncfile\n",
    "for var in vars_GG: # For all variables\n",
    "    dat_c[var]=np.squeeze(f.variables[vars_GG[var]][:])\n",
    "f.close()\n",
    "\n",
    "filename='Desmond2013SH_control.nc' # TODO: Insert the file name of your model's control run output file (spherical harmonics)\n",
    "f=Dataset(ipath+filename) # Open ncfile\n",
    "for var in vars_SH: # For all variables\n",
    "    dat_c[var]=np.squeeze(f.variables[vars_SH[var]][:])\n",
    "f.close()\n",
    "\n",
    "dat_c['wsp']=np.sqrt(dat_c['u']**2+dat_c['v']**2) # Horizontal Wind speed [m s-1]"
   ]
  },
  {
   "cell_type": "markdown",
   "metadata": {},
   "source": [
    "#### Read in data from **no evaporation on precipitation run**"
   ]
  },
  {
   "cell_type": "code",
   "execution_count": null,
   "metadata": {},
   "outputs": [],
   "source": [
    "dat_ne={} # no evaporation on precipitation\n",
    "filename='Desmond2013GG_no_evap_on_prec.nc' # TODO: Insert the file name of your model's run without \"evaporation on precipitation\" output file (gaussian)\n",
    "f=Dataset(ipath+filename) # Open ncfile\n",
    "for var in vars_GG: # For all variables\n",
    "    dat_ne[var]=np.squeeze(f.variables[vars_GG[var]][:])\n",
    "f.close()\n",
    "\n",
    "filename='Desmond2013SH_no_evap_on_prec.nc' # TODO: Insert the file name of your model's run without \"evaporation on precipitation\" output file (spherical harmonics)\n",
    "f=Dataset(ipath+filename) # Open ncfile\n",
    "for var in vars_SH: # For all variables\n",
    "    dat_ne[var]=np.squeeze(f.variables[vars_SH[var]][:])\n",
    "f.close()\n",
    "\n",
    "dat_ne['wsp']=np.sqrt(dat_ne['u']**2+dat_ne['v']**2) # Horizontal Wind speed [m s-1]"
   ]
  },
  {
   "cell_type": "markdown",
   "metadata": {},
   "source": [
    "#### Read in data from **no radiation scheme**"
   ]
  },
  {
   "cell_type": "code",
   "execution_count": null,
   "metadata": {},
   "outputs": [],
   "source": [
    "dat_nr={} # no radiation scheme\n",
    "filename='Desmond2013GG_no_radiation_scheme.nc' # TODO: Insert the file name of your model's run without \"evaporation on precipitation\" output file (gaussian)\n",
    "f=Dataset(ipath+filename) # Open ncfile\n",
    "for var in vars_GG: # For all variables\n",
    "    dat_nr[var]=np.squeeze(f.variables[vars_GG[var]][:])\n",
    "f.close()\n",
    "\n",
    "filename='Desmond2013SH_no_radiation_scheme.nc' # TODO: Insert the file name of your model's run without \"evaporation on precipitation\" output file (spherical harmonics)\n",
    "f=Dataset(ipath+filename) # Open ncfile\n",
    "for var in vars_SH: # For all variables\n",
    "    dat_nr[var]=np.squeeze(f.variables[vars_SH[var]][:])\n",
    "f.close()\n",
    "\n",
    "dat_nr['wsp']=np.sqrt(dat_nr['u']**2+dat_nr['v']**2) # Horizontal Wind speed [m s-1]"
   ]
  },
  {
   "cell_type": "markdown",
   "metadata": {},
   "source": [
    "#### Read in data from **no vertical diffusion**"
   ]
  },
  {
   "cell_type": "code",
   "execution_count": null,
   "metadata": {},
   "outputs": [],
   "source": [
    "dat_nvd={} # no vertical diffusion\n",
    "filename='Desmond2013GG_no_vertical_diffusion.nc' # TODO: Insert the file name of your model's run without \"evaporation on precipitation\" output file (gaussian)\n",
    "f=Dataset(ipath+filename) # Open ncfile\n",
    "for var in vars_GG: # For all variables\n",
    "        dat_nvd[var]=np.squeeze(f.variables[vars_GG[var]][:])\n",
    "f.close()\n",
    "\n",
    "filename='Desmond2013SH_no_vertical_diffusion.nc' # TODO: Insert the file name of your model's run without \"evaporation on precipitation\" output file (spherical harmonics)\n",
    "f=Dataset(ipath+filename) # Open ncfile\n",
    "for var in vars_SH: # For all variables\n",
    "        dat_nvd[var]=np.squeeze(f.variables[vars_SH[var]][:])\n",
    "f.close()\n",
    "\n",
    "dat_nvd['wsp']=np.sqrt(dat_nvd['u']**2+dat_nvd['v']**2) # Horizontal Wind speed [m s-1]"
   ]
  },
  {
   "cell_type": "markdown",
   "metadata": {},
   "source": [
    "#### Read in data from **no cloud scheme**"
   ]
  },
  {
   "cell_type": "code",
   "execution_count": null,
   "metadata": {},
   "outputs": [],
   "source": [
    "dat_nc={} # no cloud scheme\n",
    "filename='Desmond2013GG_no_cloud_scheme.nc' # TODO: Insert the file name of your model's run without \"evaporation on precipitation\" output file (gaussian)\n",
    "f=Dataset(ipath+filename) # Open ncfile\n",
    "for var in vars_GG: # For all variables\n",
    "        dat_nc[var]=np.squeeze(f.variables[vars_GG[var]][:])\n",
    "f.close()\n",
    "\n",
    "filename='Desmond2013SH_no_cloud_scheme.nc' # TODO: Insert the file name of your model's run without \"evaporation on precipitation\" output file (spherical harmonics)\n",
    "f=Dataset(ipath+filename) # Open ncfile\n",
    "for var in vars_SH: # For all variables\n",
    "        dat_nc[var]=np.squeeze(f.variables[vars_SH[var]][:])\n",
    "f.close()\n",
    "\n",
    "dat_nc['wsp']=np.sqrt(dat_nc['u']**2+dat_nc['v']**2) # Horizontal Wind speed [m s-1]"
   ]
  },
  {
   "cell_type": "markdown",
   "metadata": {},
   "source": [
    "# Plot results"
   ]
  },
  {
   "cell_type": "code",
   "execution_count": null,
   "metadata": {},
   "outputs": [],
   "source": [
    "labels={'u':'U Wind [ms$^{-1}$]','v':'V Wind [m s$^{-1}$]','w':'Vertical Velocity [Pa s$^{-1}$]',\n",
    "        't':'Temperature [K]','rh':'Relative humidity [%]','gp':'Geopotential height [m2s$^{-2}$]',\n",
    "        'vort':'Relative Vorticity [s$^{-1}$]','div':'Divergence [s$^{-1}$]','ps':'Surface Pressure [Pa]',\n",
    "        'shf':'Surface sensible heat flux [Wm$^{-2}$s]','lhf':'Surface latent heat flux [Wm$^{-2}$s]',\n",
    "        'pr':'Total precipitation [m]','q':'Specific humidity [kg kg$^{-1}$]','t2m':'2m Temperature [K]',\n",
    "        'lc':'Low cloud cover','mc':'Medium cloud cover','tc':'Total cloud cover',\n",
    "        'tlw':'Total column liquid water [kg m$^{-2}$]','blh':'Boundary layer height [m]',\n",
    "        'wsp':'Wind Speed [ms$^{-1}$]'}\n",
    "\n",
    "cols={'c':[0,0.5,0.7], 'ne':[], 'nr':[], 'ns':[]} #Colors for control (c), no evap. on prec. (ne), no orogr. runoff (nr)\n",
    "fs=14 # Fontsize"
   ]
  },
  {
   "cell_type": "markdown",
   "metadata": {},
   "source": [
    "## Plot functions"
   ]
  },
  {
   "cell_type": "markdown",
   "metadata": {},
   "source": [
    "#### Plot function for Profiles"
   ]
  },
  {
   "cell_type": "code",
   "execution_count": null,
   "metadata": {},
   "outputs": [],
   "source": [
    "def plot_profiles(data, p, lat, lon, lats, lons, title='', fs=14,top=-5,label='',legend=False):\n",
    "    \"\"\" This function plots profiles averaged over a given lat-lon box.\n",
    "        data: needs to have the dimensions (plev, lat, lon)\n",
    "        p: vector of pressure\n",
    "        lat,lon: Vector of Latitudes and Longitudes\n",
    "        lats, lons: arrays [lower_boundary_degree, upper_boundary_degree] that define the boundaries of the lat-lon-box \n",
    "        title: needs to be a string\n",
    "        fs: fontsize\n",
    "        top: Highest vertical level of interest (-1 for all levels)\n",
    "        label: needs to be a string, label what you plotted\n",
    "        legend: True if a legend should be printed, False to avoid a legend\n",
    "    \"\"\"\n",
    "    lat_min=np.argmin(np.abs(lat-lats[1]))\n",
    "    lat_max=np.argmin(np.abs(lat-lats[0]))\n",
    "    lon_min=np.argmin(np.abs(lon-lons[0]))\n",
    "    lon_max=np.argmin(np.abs(lon-lons[1]))\n",
    "    plt.plot(np.mean(data[:top,lat_min:lat_max,lon_min:lon_max],axis=(1,2)),p[:top]/100,label=label,lw=2) # Plot initial profile\n",
    "    if legend:\n",
    "        plt.legend(fontsize=fs,handlelength=1,bbox_to_anchor=(1.05,1))\n",
    "    plt.xlabel(labels[var],fontsize=fs)\n",
    "    plt.ylabel('Pressure [hPa]',fontsize=fs)\n",
    "    plt.title(title,fontsize=fs)"
   ]
  },
  {
   "cell_type": "markdown",
   "metadata": {},
   "source": [
    "#### Plot function for Maps"
   ]
  },
  {
   "cell_type": "code",
   "execution_count": null,
   "metadata": {},
   "outputs": [],
   "source": [
    "def plot_maps(data, lat, lon, lats, lons, title, vmin=None, vmax=None, cmap='seismic', luts=11,fs=14):\n",
    "    \"\"\" This function plots maps of any 2 dimensional variable.\n",
    "        data: needs to have the dimensions (lat, lon)\n",
    "        lat,lon: Vector of Latitudes and Longitudes\n",
    "        lats,lons: Vector [lower_boundary_degree, upper_boundary_degree] that define the boundaries of the lat-lon-box \n",
    "        title: Needs to be a string\n",
    "        vmin, vmax: Minimum and Maximum of the colorscale\n",
    "        cmap: Colormap, e.g. 'OrRd','seismic','viridis','terrain', look up in the internet\n",
    "        luts: Number of discrete sperations in coloscale, \"None\" for continuous scale\n",
    "        fs: fontsize\n",
    "    \"\"\"\n",
    "    if vmin==None: #If no max and min values are given, set to 5th and 95th percentile\n",
    "        vmin=np.percentile(data,5)\n",
    "    if vmax==None:\n",
    "        vmax=np.percentile(data,95)\n",
    "    if (cmap=='seismic'):\n",
    "        vmin=-np.max(np.abs([vmin,vmax]))\n",
    "        vmax=np.max(np.abs([vmin,vmax]))\n",
    "    ax = plt.axes(projection=ccrs.Robinson(central_longitude=7))\n",
    "    ax.coastlines()\n",
    "    map1 = ax.pcolormesh(lon, lat, data, transform=ccrs.PlateCarree(),cmap=plt.get_cmap(cmap,lut=luts),vmin=vmin,vmax=vmax)\n",
    "    cbar = plt.colorbar(map1,orientation='vertical',aspect=20,shrink=0.70,pad=0.03)#,ax=ax)\n",
    "    cbar.ax.tick_params(labelsize=fs-2)\n",
    "    ax.set_extent([lons[0],lons[1],lats[0],lats[1]], crs=ccrs.PlateCarree())\n",
    "    plt.title(title,fontsize=fs)"
   ]
  },
  {
   "cell_type": "code",
   "execution_count": null,
   "metadata": {},
   "outputs": [],
   "source": [
    "# If you don't have cartopy, try to use this map-plot function\n",
    "def plot_maps2(data, lat, lon, lats, lons, title, vmin=None, vmax=None, cmap='seismic', luts=20,fs=14):\n",
    "    \"\"\" This function plots maps of any 2 dimensional variable.\n",
    "        data: needs to have the dimensions (lat, lon)\n",
    "        lat,lon: Vector of Latitudes and Longitudes\n",
    "        lats,lons: Vector [lower_boundary_degree, upper_boundary_degree] that define the boundaries of the lat-lon-box \n",
    "        title: Needs to be a string\n",
    "        vmin, vmax: Minimum and Maximum of the colorscale\n",
    "        cmap: Colormap, e.g. 'OrRd','seismic','viridis','terrain', look up in the internet\n",
    "        luts: Number of discrete sperations in coloscale, \"None\" for continuous scale\n",
    "        fs: fontsize\n",
    "    \"\"\"\n",
    "    l=[np.argmin(np.abs(lons[0]-dat_c['lon'])),np.argmin(np.abs(lons[1]-dat_c['lon'])),np.argmin(np.abs(lats[1]-dat_c['lat'])),np.argmin(np.abs(lats[0]-dat_c['lat']))]\n",
    "    if vmin==None: #If no max and min values are given, set to 5th and 95th percentile\n",
    "        vmin=np.percentile(data[l[2]:l[3],l[0]:l[1]],5)\n",
    "    if vmax==None:\n",
    "        vmax=np.percentile(data[l[2]:l[3],l[0]:l[1]],95)\n",
    "    if (cmap=='seismic'):\n",
    "        vmin=-np.max(np.abs([vmin,vmax]))\n",
    "        vmax=np.max(np.abs([vmin,vmax]))\n",
    "    plt.pcolormesh(lon[l[0]:l[1]], lat[l[2]:l[3]], data[l[2]:l[3],l[0]:l[1]], vmin=vmin,vmax=vmax,cmap=plt.get_cmap(cmap,lut=luts))\n",
    "    cbar=plt.colorbar(orientation='vertical',pad=0.03)\n",
    "    plt.xlabel('Longitudes [deg E]',fontsize=fs)\n",
    "    plt.ylabel('Latitudes [deg N]',fontsize=fs)\n",
    "    #cbar.ax.set_label('hallo') #TODO FIX LABEL!\n",
    "    plt.title(title,fontsize=fs)"
   ]
  },
  {
   "cell_type": "code",
   "execution_count": null,
   "metadata": {},
   "outputs": [],
   "source": [
    "def plot_2D_cut(data, lat_or_lon, p, title, vmin=None, vmax=None, cmap='seismic', luts=20,fs=14,top=-5,xlabel='Longitudes [deg E]'):\n",
    "    \"\"\" This function plots vertical cuts of any 2 dimensional variable.\n",
    "        data: needs to have the dimensions (plev, lon) or (plev, lat)\n",
    "        lat_or_lon: Vector of Latitudes or Longitudes, depending if it is a zonal or meridional cut\n",
    "        title: Needs to be a string\n",
    "        vmin, vmax: Minimum and Maximum of the colorscale\n",
    "        cmap: Colormap, e.g. 'OrRd','seismic','viridis','terrain', look up in the internet\n",
    "        luts: Number of discrete sperations in coloscale, \"None\" for continuous scale\n",
    "        fs: fontsize\n",
    "        top: Highest vertical level of interest (-1 for all levels)\n",
    "    \"\"\"\n",
    "    if vmin==None: #If no max and min values are given, set to 5th and 95th percentile\n",
    "        vmin=np.percentile(data,5)\n",
    "    if vmax==None:\n",
    "        vmax=np.percentile(data,95)\n",
    "    if (cmap=='seismic'):\n",
    "        vmin=-np.max(np.abs([vmin,vmax]))\n",
    "        vmax=np.max(np.abs([vmin,vmax]))\n",
    "    plt.contourf(lat_or_lon,p[:top]/100,data[:top],levels=luts,vmin=vmin,vmax=vmax,cmap=plt.get_cmap(cmap))\n",
    "    cbar=plt.colorbar(orientation='vertical',pad=0.03)\n",
    "    plt.xlabel(xlabel,fontsize=fs)\n",
    "    plt.ylabel('Pressure [hPa]',fontsize=fs)\n",
    "    #cbar.ax.set_label('hallo') #TODO FIX LABEL!\n",
    "    plt.gca().invert_yaxis()\n",
    "    plt.title(title,fontsize=fs)    "
   ]
  },
  {
   "cell_type": "markdown",
   "metadata": {},
   "source": [
    "## Create Plots"
   ]
  },
  {
   "cell_type": "markdown",
   "metadata": {},
   "source": [
    "### Plot profiles (averaged over the lat-lon-box of interest)"
   ]
  },
  {
   "cell_type": "code",
   "execution_count": null,
   "metadata": {},
   "outputs": [],
   "source": [
    "lats=[63,68] # TODO: Cut off the lat-lon box of interest in degree\n",
    "lons=[0,5]  # TODO: Cut off the lat-lon box of interest in degree # Minimum is unfortunately 0\n",
    "opath='/Data/gfi/work/ldi022/GEOF321/Desmond_T255L91/plots/'\n",
    "\n",
    "ts=24\n",
    "\n",
    "# Possible Variables for Profile-Plot: q, u, v, w, wsp, t, rh, gp, vort, div\n",
    "for var in ['t']: # Loop over all mentioned variables #TODO: For which variables do you need profiles?\n",
    "    plt.figure(figsize=(15,3))\n",
    "    plt.subplot(141)\n",
    "    plot_profiles(dat_c[var][0],dat_c['p'],dat_c['lat'],dat_c['lon'],lats,lons,'Control',label='ts=0')\n",
    "    plot_profiles(dat_c[var][24],dat_c['p'],dat_c['lat'],dat_c['lon'],lats,lons,'Control',label='ts=24')\n",
    "    plt.gca().invert_yaxis() # inverts yaxis\n",
    "    plt.subplot(142)\n",
    "    plot_profiles(dat_nvd[var][0],dat_c['p'],dat_c['lat'],dat_c['lon'],lats,lons,'Experiment',label='ts=0')\n",
    "    plot_profiles(dat_nvd[var][24],dat_c['p'],dat_c['lat'],dat_c['lon'],lats,lons,'Experiment',label='ts=24')\n",
    "    plt.gca().invert_yaxis() # inverts yaxis\n",
    "    plt.subplot(143)\n",
    "    plot_profiles(dat_nvd[var][0]-dat_c[var][0],dat_c['p'],dat_c['lat'],dat_c['lon'],lats,lons,'Diff strom region',label='ts=0')\n",
    "    plot_profiles(dat_nvd[var][24]-dat_c[var][24],dat_c['p'],dat_c['lat'],dat_c['lon'],lats,lons,'Diff strom region',label='ts=24')\n",
    "    plt.gca().invert_yaxis() # inverts yaxis\n",
    "    plt.subplot(144)\n",
    "    plot_profiles(dat_nvd[var][0]-dat_c[var][0],dat_c['p'],dat_c['lat'],dat_c['lon'],[45,70],[0,360],'Diff midlats',label='ts=0')\n",
    "    plot_profiles(dat_nvd[var][24]-dat_c[var][24],dat_c['p'],dat_c['lat'],dat_c['lon'],[45,70],[0,360],'Diff midlats',label='ts=24')\n",
    "    plt.gca().invert_yaxis() # inverts yaxis\n",
    "    plt.subplots_adjust(wspace=0.35)\n",
    "    #plt.savefig(opath+var+'_profile_comparison_no_evaporation.png',dpi=120,bbox_inches='tight')\n"
   ]
  },
  {
   "cell_type": "markdown",
   "metadata": {},
   "source": [
    "### Plot Maps"
   ]
  },
  {
   "cell_type": "markdown",
   "metadata": {},
   "source": [
    "#### Plot 3D Atmospheric Data (with Cartopy)"
   ]
  },
  {
   "cell_type": "code",
   "execution_count": null,
   "metadata": {},
   "outputs": [],
   "source": [
    "lats=[50,80] # TODO: Cut off the lat-lon box of interest in degree\n",
    "lons=[-30,30]  # TODO: Cut off the lat-lon box of interest in degree\n",
    "opath='/Data/gfi/work/ldi022/GEOF321/Desmond_T255L91/plots/'\n",
    "\n",
    "##### Atmospheric Data\n",
    "# Possible Variables for Map-Plot in any height: q, u, v, w, t, rh, gp, vort, div\n",
    "var='rh' # Variable in strings\n",
    "ts=24 # timestep\n",
    "hl=0 # height level (0: 1000hPa, 2: 850hPa, 4: 500hPa, 8: 200hPa, 21 (top): 1hPa)\n",
    "\n",
    "plt.figure() # Difference\n",
    "plot_maps(dat_nvd[var][ts,hl]-dat_c[var][ts,hl],dat_c['lat'],dat_c['lon'],lats,lons,luts=13,title='Difference of '+labels[var]+'\\n at timestep '+str(ts)+'\\n for \"No vertical diffusion\"') # TODO: Adapt title and input data\n",
    "\n",
    "plt.figure() # Control\n",
    "plot_maps(dat_c[var][ts,hl],dat_c['lat'],dat_c['lon'],lats,lons,luts=13,title=labels[var]+'\\n at timestep '+str(ts)+'\\n for \"Control Run\"',cmap='OrRd')\n",
    "\n",
    "plt.figure() # Experiment # TODO: Adapt Experiment\n",
    "plot_maps(dat_nvd[var][ts,hl],dat_c['lat'],dat_c['lon'],lats,lons,luts=13,title=labels[var]+'\\n at timestep '+str(ts)+'\\n for \"No vertical diffusion\"',cmap='OrRd') # TODO: Adapt title and input data\n",
    "\n",
    "# For saving the plot, use:\n",
    "# plt.savefig(opath+var+'_map_comparison_no_evaporation.png',dpi=120,bbox_inches='tight')"
   ]
  },
  {
   "cell_type": "markdown",
   "metadata": {},
   "source": [
    "#### Plot 3D Atmospheric Data (without Cartopy)"
   ]
  },
  {
   "cell_type": "code",
   "execution_count": null,
   "metadata": {},
   "outputs": [],
   "source": [
    "lats=[50,80] # TODO: Cut off the lat-lon box of interest in degree\n",
    "lons=[-30,30]  # TODO: Cut off the lat-lon box of interest in degree\n",
    "opath='/Data/gfi/work/ldi022/GEOF321/Desmond_T255L91/plots/'\n",
    "\n",
    "##### Atmospheric Data\n",
    "# Possible Variables for Map-Plot in any height: q, u, v, w, t, rh, gp, vort, div\n",
    "var='rh' # Variable in strings\n",
    "ts=24 # timestep\n",
    "hl=0 # height level (0: 1000hPa, 2: 850hPa, 4: 500hPa, 8: 200hPa, 21 (top): 1hPa)\n",
    "\n",
    "plt.figure() # Difference\n",
    "plot_maps2(dat_nvd[var][ts,hl]-dat_c[var][ts,hl],dat_c['lat'],dat_c['lon'],lats,lons,luts=13,title='Difference of '+labels[var]+'\\n at timestep '+str(ts)+'\\n for \"No vertical diffusion\"') # TODO: Adapt title and input data\n",
    "\n",
    "plt.figure() # Control\n",
    "plot_maps2(dat_c[var][ts,hl],dat_c['lat'],dat_c['lon'],lats,lons,luts=13,title=labels[var]+'\\n at timestep '+str(ts)+'\\n for \"Control Run\"',cmap='OrRd')\n",
    "\n",
    "plt.figure() # Experiment # TODO: Adapt Experiment\n",
    "plot_maps2(dat_nvd[var][ts,hl],dat_c['lat'],dat_c['lon'],lats,lons,luts=13,title=labels[var]+'\\n at timestep '+str(ts)+'\\n for \"No vertical diffusion\"',cmap='OrRd') # TODO: Adapt title and input data\n",
    "\n",
    "# For saving the plot, use:\n",
    "# plt.savefig(opath+var+'_map_comparison_no_evaporation.png',dpi=120,bbox_inches='tight')"
   ]
  },
  {
   "cell_type": "markdown",
   "metadata": {},
   "source": [
    "#### Plot 2D Surface Data (with Cartopy)"
   ]
  },
  {
   "cell_type": "code",
   "execution_count": null,
   "metadata": {},
   "outputs": [],
   "source": [
    "lats=[50,80] # TODO: Cut off the lat-lon box of interest in degree\n",
    "lons=[-30,30]  # TODO: Cut off the lat-lon box of interest in degree\n",
    "\n",
    "##### Surface Data\n",
    "# Possible Variables for Map-Plot at the surface: shf, lhf, pr, t2m, lc, mc, tc, tlw, blh, ps\n",
    "var='t2m' # Variable in strings\n",
    "ts=24 # timestep\n",
    "plt.figure()\n",
    "plot_maps(dat_nvd[var][ts]-dat_c[var][ts],dat_c['lat'],dat_c['lon'],lats,lons,title='Difference of '+labels[var]+'\\n at timestep '+str(ts)+'\\n for \"No vertical diffusion\"',luts=13,cmap='OrRd') # TODO: Adapt title and input data\n",
    "\n",
    "plt.figure()\n",
    "plot_maps(dat_c[var][ts],dat_c['lat'],dat_c['lon'],lats,lons,title=labels[var]+'\\n at timestep '+str(ts)+'\\n for \"Control Run\"',luts=13,cmap='OrRd_r')\n",
    "\n",
    "plt.figure()\n",
    "plot_maps(dat_nvd[var][ts],dat_c['lat'],dat_c['lon'],lats,lons,title=labels[var]+'\\n at timestep '+str(ts)+'\\n for \"No vertical diffusion\"',luts=13,cmap='OrRd_r') # TODO: Adapt title and input data\n",
    "#opath='/Data/gfi/work/ldi022/GEOF321/Desmond_T255L91/plots/'\n",
    "#plt.savefig(opath+var+'_map_comparison_no_evaporation.png',dpi=120,bbox_inches='tight')"
   ]
  },
  {
   "cell_type": "markdown",
   "metadata": {},
   "source": [
    "#### Plot 2D Surface Data (without Cartopy)"
   ]
  },
  {
   "cell_type": "code",
   "execution_count": null,
   "metadata": {},
   "outputs": [],
   "source": [
    "lats=[50,80] # TODO: Cut off the lat-lon box of interest in degree\n",
    "lons=[-30,30]  # TODO: Cut off the lat-lon box of interest in degree\n",
    "\n",
    "##### Surface Data\n",
    "# Possible Variables for Map-Plot at the surface: shf, lhf, pr, t2m, lc, mc, tc, tlw, blh, ps\n",
    "var='t2m' # Variable in strings\n",
    "ts=24 # timestep\n",
    "plt.figure()\n",
    "plot_maps2(dat_nvd[var][ts]-dat_c[var][ts],dat_c['lat'],dat_c['lon'],lats,lons,title='Difference of '+labels[var]+'\\n at timestep '+str(ts)+'\\n for \"No vertical diffusion\"',luts=13,cmap='OrRd') # TODO: Adapt title and input data\n",
    "\n",
    "plt.figure()\n",
    "plot_maps2(dat_c[var][ts],dat_c['lat'],dat_c['lon'],lats,lons,title=labels[var]+'\\n at timestep '+str(ts)+'\\n for \"Control Run\"',luts=13,cmap='OrRd_r')\n",
    "\n",
    "plt.figure()\n",
    "plot_maps2(dat_nvd[var][ts],dat_c['lat'],dat_c['lon'],lats,lons,title=labels[var]+'\\n at timestep '+str(ts)+'\\n for \"No vertical diffusion\"',luts=13,cmap='OrRd_r') # TODO: Adapt title and input data\n",
    "#opath='/Data/gfi/work/ldi022/GEOF321/Desmond_T255L91/plots/'\n",
    "#plt.savefig(opath+var+'_map_comparison_no_evaporation.png',dpi=120,bbox_inches='tight')"
   ]
  },
  {
   "cell_type": "markdown",
   "metadata": {},
   "source": [
    "#### Plot 2D vertical cut (without Cartopy)"
   ]
  },
  {
   "cell_type": "code",
   "execution_count": null,
   "metadata": {},
   "outputs": [],
   "source": [
    "var='t'\n",
    "ts=24\n",
    "\n",
    "# Zonal Cut\n",
    "lat=[60]\n",
    "lons=[0,360]\n",
    "plot_2D_cut(np.squeeze(dat_c[var][ts,:,lat,lons[0]:lons[1]]),dat_c['lon'][lons[0]:lons[1]],dat_c['p'],'',xlabel='Longitudes [deg E]',luts=10,cmap=\"OrRd\",top=-5)\n",
    "\n",
    "# Meridional Cut\n",
    "plt.figure()\n",
    "lats=[45,70]\n",
    "lon=[10]\n",
    "plot_2D_cut(np.squeeze(dat_c[var][ts,:,lats[0]:lats[1],lon]),dat_c['lat'][lats[0]:lats[1]],dat_c['p'],'',xlabel='Longitudes [deg E]',luts=10,cmap=\"OrRd\",top=-5)"
   ]
  }
 ],
 "metadata": {
  "kernelspec": {
   "display_name": "Python 3",
   "language": "python",
   "name": "python3"
  },
  "language_info": {
   "codemirror_mode": {
    "name": "ipython",
    "version": 3
   },
   "file_extension": ".py",
   "mimetype": "text/x-python",
   "name": "python",
   "nbconvert_exporter": "python",
   "pygments_lexer": "ipython3",
   "version": "3.7.4"
  }
 },
 "nbformat": 4,
 "nbformat_minor": 4
}
