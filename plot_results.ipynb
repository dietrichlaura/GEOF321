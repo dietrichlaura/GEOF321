{
 "cells": [
  {
   "cell_type": "markdown",
   "metadata": {},
   "source": [
    "#### Import needed packages"
   ]
  },
  {
   "cell_type": "code",
   "execution_count": null,
   "metadata": {},
   "outputs": [],
   "source": [
    "import numpy as np # mathematical package\n",
    "import matplotlib.pyplot as plt # plotting package\n",
    "import cartopy.crs as ccrs # package for Map-plots\n",
    "from netCDF4 import Dataset # package for reading in nc-files"
   ]
  },
  {
   "cell_type": "markdown",
   "metadata": {},
   "source": [
    "#### Variables"
   ]
  },
  {
   "cell_type": "code",
   "execution_count": null,
   "metadata": {},
   "outputs": [],
   "source": [
    "#Dictionary: {How we will call it : how it is called in the nc-file}\n",
    "vars_SH={\n",
    "    'time':'time', # Time [hours since 2015-12-3 00:00:00]\n",
    "    'lon':'lon',   # Longitude [degrees_east]\n",
    "    'lat':'lat',   # Latitude [degrees_north]\n",
    "    'p':'plev',    # pressure [Pa]\n",
    "    'u':'U',       # X-component of horizontal velocity [m s-1]\n",
    "    'v':'V',       # Y-component of horizontal velocity [m s-1]\n",
    "    'w':'W',       # Vertical velocity [Pa s-1]\n",
    "    't':'T',       # Temperature [K]\n",
    "    'rh':'R',      # Relative humidity [%]\n",
    "    'gp':'Z',      # Geopotential height [m2 s-2]\n",
    "    'vort':'VO',   # Relative Vorticity [s-1]  \n",
    "    'div':'D',     # Divergence [s-1]\n",
    "    'ps':'SP'      # Surface pressure [Pa]\n",
    "}\n",
    "vars_GG={\n",
    "    'time':'time',  # Time [day as %Y%m%d.%f]\n",
    "    'lon':'lon',   # Longitude [degrees_east]\n",
    "    'lat':'lat',   # Latitude [degrees_north]\n",
    "    'p':'plev',    # pressure [Pa]\n",
    "    'shf':'SSHF',    # Surface sensible heat flux [Wm-2s]\n",
    "    'lhf':'SLHF',    # Surface latent heat flux [Wm-2s]\n",
    "    'pr':'TP',      # Total precipitation [m]\n",
    "    'q':'Q',       # Specific humidity [kg kg-1]\n",
    "    't2m':'T2M',    # 2 metre temperatur [K]\n",
    "    'lc':'LCC',    # Low cloud cover [-]\n",
    "    'mc':'MCC',  # Medium cloud cover [-]  \n",
    "    'tc':'TCC',   # Total cloud cover [-]\n",
    "    'tlw':'var78', # Total column liquid water [kg m-2] \n",
    "    'blh':'BLH'     # Boundary layer height [m]\n",
    "}"
   ]
  },
  {
   "cell_type": "markdown",
   "metadata": {},
   "source": [
    "#### Initialise data variables (Dictionaries)"
   ]
  },
  {
   "cell_type": "code",
   "execution_count": null,
   "metadata": {},
   "outputs": [],
   "source": [
    "dat_c={} # control data\n",
    "dat_ne={} # no evaporation on precipitation\n",
    "dat_nr={} # no runoff\n",
    "dat_ns={} # no interactive surface scheme"
   ]
  },
  {
   "cell_type": "markdown",
   "metadata": {},
   "source": [
    "# Read in data"
   ]
  },
  {
   "cell_type": "code",
   "execution_count": null,
   "metadata": {},
   "outputs": [],
   "source": [
    "ipath='/Data/gfi/work/ldi022/GEOF321/Desmond_T255L91/output/' # TODO: Insert the path of your model's output (ncfiles)"
   ]
  },
  {
   "cell_type": "markdown",
   "metadata": {},
   "source": [
    "#### Read in data from **control run**"
   ]
  },
  {
   "cell_type": "code",
   "execution_count": null,
   "metadata": {},
   "outputs": [],
   "source": [
    "filename='Desmond2013GG_control.nc' # TODO: Insert the file name of your model's control run output file (gaussian)\n",
    "f=Dataset(ipath+filename) # Open ncfile\n",
    "for var in vars_GG: # For all variables\n",
    "    dat_c[var]=np.squeeze(f.variables[vars_GG[var]][:])\n",
    "f.close()\n",
    "\n",
    "filename='Desmond2013SH_control.nc' # TODO: Insert the file name of your model's control run output file (spherical harmonics)\n",
    "f=Dataset(ipath+filename) # Open ncfile\n",
    "for var in vars_SH: # For all variables\n",
    "    dat_c[var]=np.squeeze(f.variables[vars_SH[var]][:])\n",
    "f.close()"
   ]
  },
  {
   "cell_type": "markdown",
   "metadata": {},
   "source": [
    "#### Read in data from **no evaporation on precipitation run**"
   ]
  },
  {
   "cell_type": "code",
   "execution_count": null,
   "metadata": {},
   "outputs": [],
   "source": [
    "filename='Desmond2013GG_no_evap_on_prec.nc' # TODO: Insert the file name of your model's run without \"evaporation on precipitation\" output file (gaussian)\n",
    "f=Dataset(ipath+filename) # Open ncfile\n",
    "for var in vars_GG: # For all variables\n",
    "    dat_ne[var]=np.squeeze(f.variables[vars_GG[var]][:])\n",
    "f.close()\n",
    "\n",
    "filename='Desmond2013SH_no_evap_on_prec.nc' # TODO: Insert the file name of your model's run without \"evaporation on precipitation\" output file (spherical harmonics)\n",
    "f=Dataset(ipath+filename) # Open ncfile\n",
    "for var in vars_SH: # For all variables\n",
    "    dat_ne[var]=np.squeeze(f.variables[vars_SH[var]][:])\n",
    "f.close()"
   ]
  },
  {
   "cell_type": "markdown",
   "metadata": {},
   "source": [
    "#### Read in data from **no orographical runoff run**"
   ]
  },
  {
   "cell_type": "code",
   "execution_count": null,
   "metadata": {},
   "outputs": [],
   "source": [
    "filename='Desmond2013GG_no_runoff.nc' # TODO: Insert the file name of your model's run without \"evaporation on precipitation\" output file (gaussian)\n",
    "f=Dataset(ipath+filename) # Open ncfile\n",
    "for var in vars_GG: # For all variables\n",
    "    dat_nr[var]=np.squeeze(f.variables[vars_GG[var]][:])\n",
    "f.close()\n",
    "\n",
    "filename='Desmond2013SH_no_runoff.nc' # TODO: Insert the file name of your model's run without \"evaporation on precipitation\" output file (spherical harmonics)\n",
    "f=Dataset(ipath+filename) # Open ncfile\n",
    "for var in vars_SH: # For all variables\n",
    "    dat_nr[var]=np.squeeze(f.variables[vars_SH[var]][:])\n",
    "f.close()"
   ]
  },
  {
   "cell_type": "markdown",
   "metadata": {},
   "source": [
    "#### Read in data from **no interactive surface scheme run** (Model crashed for this experiment)"
   ]
  },
  {
   "cell_type": "code",
   "execution_count": null,
   "metadata": {},
   "outputs": [],
   "source": [
    "# filename='Desmond2013GG_no_surface_scheme.nc' # TODO: Insert the file name of your model's run without \"evaporation on precipitation\" output file (gaussian)\n",
    "# f=Dataset(ipath+filename) # Open ncfile\n",
    "# for var in vars_GG: # For all variables\n",
    "#     dat_nr[var]=f.variables[vars_GG[var]][:]\n",
    "# f.close()\n",
    "\n",
    "# filename='Desmond2013SH_no_surface_scheme.nc' # TODO: Insert the file name of your model's run without \"evaporation on precipitation\" output file (spherical harmonics)\n",
    "# f=Dataset(ipath+filename) # Open ncfile\n",
    "# for var in vars_SH: # For all variables\n",
    "#     dat_nr[var]=f.variables[vars_SH[var]][:]\n",
    "# f.close()"
   ]
  },
  {
   "cell_type": "markdown",
   "metadata": {},
   "source": [
    "# Plot results"
   ]
  },
  {
   "cell_type": "code",
   "execution_count": null,
   "metadata": {},
   "outputs": [],
   "source": [
    "labels={'u':'U Wind [ms$^{-1}$]','v':'V Wind [m s$^{-1}$]','w':'Vertical Velocity [Pa s$^{-1}$]','t':'Temperature [K]',\n",
    "        'rh':'Relative humidity [%]','gp':'Geopotential height [m2s$^{-2}$]','vort':'Relative Vorticity [s$^{-1}$]',\n",
    "        'div':'Divergence [s$^{-1}$]','ps':'Surface Pressure [Pa]','shf':'Surface sensible heat flux [Wm$^{-2}$s]',\n",
    "        'lhf':'Surface latent heat flux [Wm$^{-2}$s]','pr':'Total precipitation [m]','q':'Specific humidity [kg kg$^{-1}$]',\n",
    "        't2m':'2m Temperature [K]','lc':'Low cloud cover','mc':'Medium cloud cover','tc':'Total cloud cover',\n",
    "        'tlw':'Total column liquid water [kg m$^{-2}$]','blh':'Boundary layer height [m]'}\n",
    "\n",
    "cols={'c':[0,0.5,0.7], 'ne':[], 'nr':[], 'ns':[]} #Colors for control (c), no evap. on prec. (ne), no orogr. runoff (nr), no interac. surface (ns)\n",
    "fs=14 # Fontsize"
   ]
  },
  {
   "cell_type": "markdown",
   "metadata": {},
   "source": [
    "## Plot functions"
   ]
  },
  {
   "cell_type": "markdown",
   "metadata": {},
   "source": [
    "#### Plot function for Profiles"
   ]
  },
  {
   "cell_type": "code",
   "execution_count": null,
   "metadata": {},
   "outputs": [],
   "source": [
    "def plot_profiles(data, p, lat, lon, lats, lons, title, fs=14,top=-6,legend=False):\n",
    "    \"\"\" This function plots profiles averaged over a given lat-lon box.\n",
    "        data: needs to have the dimensions (time, plev, lat, lon)\n",
    "        p: vector of pressure\n",
    "        lat,lon: Vector of Latitudes and Longitudes\n",
    "        lats, lons: arrays [lower_boundary_degree, upper_boundary_degree] that define the boundaries of the lat-lon-box \n",
    "        title: needs to be a string\n",
    "        fs: fontsize\n",
    "        top: Highest vertical level of interest (-1 for all levels)\n",
    "        legend: True if a legend should be printed, False to avoid a legend\n",
    "    \"\"\"\n",
    "    lat_min=np.argmin(np.abs(lat-lats[1]))\n",
    "    lat_max=np.argmin(np.abs(lat-lats[0]))\n",
    "    lon_min=np.argmin(np.abs(lon-lons[0]))\n",
    "    lon_max=np.argmin(np.abs(lon-lons[1]))\n",
    "    plt.plot(np.mean(data[0,:top,lat_min:lat_max,lon_min:lon_max],axis=(1,2)),p[:top]/100,label='Initial profile',lw=2) # Plot initial profile\n",
    "    plt.plot(np.mean(data[24,:top,lat_min:lat_max,lon_min:lon_max],axis=(1,2)),p[:top]/100,label='Profile after 3 days',lw=2) # Plot profile after 24 output timesteps (3 days)\n",
    "    plt.gca().invert_yaxis() # inverts yaxis\n",
    "    if legend:\n",
    "        plt.legend(fontsize=fs,handlelength=1,bbox_to_anchor=(1.05,1))\n",
    "    plt.xlabel(labels[var],fontsize=fs)\n",
    "    plt.ylabel('Pressure [hPa]',fontsize=fs)\n",
    "    plt.title(title,fontsize=fs)"
   ]
  },
  {
   "cell_type": "markdown",
   "metadata": {},
   "source": [
    "#### Plot function for Maps"
   ]
  },
  {
   "cell_type": "code",
   "execution_count": null,
   "metadata": {},
   "outputs": [],
   "source": [
    "def plot_maps(data, lat, lon, lats, lons, title, vmin=None, vmax=None, cmap='seismic', luts=11,fs=14):\n",
    "    \"\"\" This function plots maps of any 2 dimensional variable.\n",
    "        data: needs to have the dimensions (lat, lon)\n",
    "        lat,lon: Vector of Latitudes and Longitudes\n",
    "        lats,lons: Vector [lower_boundary_degree, upper_boundary_degree] that define the boundaries of the lat-lon-box \n",
    "        title: Needs to be a string\n",
    "        vmin, vmax: Minimum and Maximum of the colorscale\n",
    "        cmap: Colormap, e.g. 'OrRd','seismic','viridis','terrain', look up in the internet\n",
    "        luts: Number of discrete sperations in coloscale, \"None\" for continuous scale\n",
    "        fs: fontsize\n",
    "    \"\"\"\n",
    "    if vmin==None: #If no max and min values are given, set to 5th and 95th percentile\n",
    "        vmin=np.percentile(data,5)\n",
    "    if vmax==None:\n",
    "        vmax=np.percentile(data,95)\n",
    "    ax = plt.axes(projection=ccrs.Robinson(central_longitude=7))\n",
    "    ax.coastlines()\n",
    "    map1 = ax.pcolormesh(lon, lat, data, transform=ccrs.PlateCarree(),cmap=plt.get_cmap(cmap,lut=luts),vmin=vmin,vmax=vmax)\n",
    "    cbar = plt.colorbar(map1,orientation='vertical',aspect=20,shrink=0.70,pad=0.03)#,ax=ax)\n",
    "    cbar.ax.tick_params(labelsize=fs-2)\n",
    "    ax.set_extent([lons[0],lons[1],lats[0],lats[1]], crs=ccrs.PlateCarree())\n",
    "    plt.title(title,fontsize=fs)"
   ]
  },
  {
   "cell_type": "markdown",
   "metadata": {},
   "source": [
    "## Create Plots"
   ]
  },
  {
   "cell_type": "markdown",
   "metadata": {},
   "source": [
    "#### Plot profiles (averaged over the lat-lon-box of interest)"
   ]
  },
  {
   "cell_type": "code",
   "execution_count": null,
   "metadata": {},
   "outputs": [],
   "source": [
    "lats=[50,62] # TODO: Cut off the lat-lon box of interest in degree\n",
    "lons=[0,15]  # TODO: Cut off the lat-lon box of interest in degree # Minimum is unfortunately 0\n",
    "opath='/Data/gfi/work/ldi022/GEOF321/Desmond_T255L91/plots/'\n",
    "\n",
    "# Possible Variables for Profile-Plot: q, u, v, w, t, rh, gp, vort, div\n",
    "for var in ['t','rh','w','vort','div']: # Loop over all mentioned variables #TODO: For which variables do you need profiles?\n",
    "    plt.figure(figsize=(15,3))\n",
    "    plt.subplot(141)\n",
    "    plot_profiles(dat_c[var],dat_c['p'],dat_c['lat'],dat_c['lon'],lats,lons,'Control')\n",
    "    plt.subplot(142)\n",
    "    plot_profiles(dat_ne[var],dat_c['p'],dat_c['lat'],dat_c['lon'],lats,lons,'No evaporation')\n",
    "    plt.subplot(143)\n",
    "    plot_profiles(dat_ne[var]-dat_c[var][:25],dat_c['p'],dat_c['lat'],dat_c['lon'],lats,lons,'Difference')\n",
    "    plt.subplot(144)\n",
    "    plot_profiles(dat_ne[var]-dat_c[var][:25],dat_c['p'],dat_c['lat'],dat_c['lon'],[-90,90],[0,360],'Difference, globally',legend=True)\n",
    "    plt.subplots_adjust(wspace=0.35)\n",
    "    #plt.savefig(opath+var+'_profile_comparison_no_evaporation.png',dpi=120,bbox_inches='tight')"
   ]
  },
  {
   "cell_type": "markdown",
   "metadata": {},
   "source": [
    "#### Plot Maps"
   ]
  },
  {
   "cell_type": "markdown",
   "metadata": {},
   "source": [
    "#### Plot 3D Atmospheric Data"
   ]
  },
  {
   "cell_type": "code",
   "execution_count": null,
   "metadata": {},
   "outputs": [],
   "source": [
    "lats=[50,80] # TODO: Cut off the lat-lon box of interest in degree\n",
    "lons=[-30,30]  # TODO: Cut off the lat-lon box of interest in degree\n",
    "\n",
    "##### Atmospheric Data\n",
    "# Possible Variables for Map-Plot in any height: q, u, v, w, t, rh, gp, vort, div\n",
    "var='vort' # Variable in strings\n",
    "ts=24 # timestep\n",
    "hl=4 # height level (0: 1000hPa, 2: 850hPa, 4: 500hPa, 8: 200hPa, 21 (top): 1hPa)\n",
    "\n",
    "plot_maps(dat_ne[var][ts,hl]-dat_c[var][ts,hl],dat_c['lat'],dat_c['lon'],lats,lons,labels[var],vmin=-3e-4,vmax=3e-4,luts=13)\n",
    "opath='/Data/gfi/work/ldi022/GEOF321/Desmond_T255L91/plots/'\n",
    "plt.savefig(opath+var+'_map_comparison_no_evaporation.png',dpi=120,bbox_inches='tight')"
   ]
  },
  {
   "cell_type": "markdown",
   "metadata": {},
   "source": [
    "#### Plot 2D Surface Data"
   ]
  },
  {
   "cell_type": "code",
   "execution_count": null,
   "metadata": {},
   "outputs": [],
   "source": [
    "lats=[50,80] # TODO: Cut off the lat-lon box of interest in degree\n",
    "lons=[-30,30]  # TODO: Cut off the lat-lon box of interest in degree\n",
    "\n",
    "##### Surface Data\n",
    "# Possible Variables for Map-Plot at the surface: shf, lhf, pr, t2m, lc, mc, tc, tlw, blh, ps\n",
    "var='blh' # Variable in strings\n",
    "ts=24 # timestep\n",
    "hl=4 # height level (0: 1000hPa, 2: 850hPa, 4: 500hPa, 8: 200hPa, 21 (top): 1hPa)\n",
    "plt.figure()\n",
    "plot_maps(dat_ne[var][ts]-dat_c[var][ts],dat_c['lat'],dat_c['lon'],lats,lons,labels[var],luts=13)\n",
    "opath='/Data/gfi/work/ldi022/GEOF321/Desmond_T255L91/plots/'\n",
    "plt.savefig(opath+var+'_map_comparison_no_evaporation.png',dpi=120,bbox_inches='tight')"
   ]
  }
 ],
 "metadata": {
  "kernelspec": {
   "display_name": "Python 3",
   "language": "python",
   "name": "python3"
  },
  "language_info": {
   "codemirror_mode": {
    "name": "ipython",
    "version": 3
   },
   "file_extension": ".py",
   "mimetype": "text/x-python",
   "name": "python",
   "nbconvert_exporter": "python",
   "pygments_lexer": "ipython3",
   "version": "3.7.4"
  }
 },
 "nbformat": 4,
 "nbformat_minor": 4
}
